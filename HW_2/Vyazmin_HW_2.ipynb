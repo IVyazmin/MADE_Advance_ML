{
 "cells": [
  {
   "cell_type": "markdown",
   "metadata": {},
   "source": [
    "## Домашнее задание 2"
   ]
  },
  {
   "cell_type": "code",
   "execution_count": 1,
   "metadata": {},
   "outputs": [],
   "source": [
    "import pickle\n",
    "import numpy as np\n",
    "import pandas as pd\n",
    "from sklearn.linear_model import LinearRegression\n",
    "from collections import Counter\n",
    "from scipy.stats import spearmanr, kendalltau\n",
    "from liblinear import liblinearutil"
   ]
  },
  {
   "cell_type": "markdown",
   "metadata": {},
   "source": [
    "### 1. Загрузим данные и выделим тренировочную и тестовую выборку"
   ]
  },
  {
   "cell_type": "code",
   "execution_count": 2,
   "metadata": {},
   "outputs": [],
   "source": [
    "with open('players.pkl', 'rb') as f:\n",
    "    players = pickle.load(f)\n",
    "with open('tournaments.pkl', 'rb') as f:\n",
    "    tournaments = pickle.load(f)\n",
    "with open('results.pkl', 'rb') as f:\n",
    "    results = pickle.load(f)"
   ]
  },
  {
   "cell_type": "code",
   "execution_count": 3,
   "metadata": {},
   "outputs": [],
   "source": [
    "def get_train(results, tournaments):\n",
    "    new_results = dict()\n",
    "    new_tournaments = dict()\n",
    "    for i in results:\n",
    "        if tournaments[i]['dateStart'][:4] != '2019':          # берем ткрниры за 2019 год\n",
    "            continue\n",
    "        res = results[i]\n",
    "        new_res = []\n",
    "        mask_len = 0\n",
    "        for team in res:                                       # для каждого турнира находим наибольшую длину маски\n",
    "            if ('mask' in team) and (team['mask'] is not None):\n",
    "                mask_len = max(mask_len, len(team['mask']))\n",
    "        for team in res:\n",
    "            if len(team['teamMembers']) == 0:                  # выбрасываем команды без списка участников\n",
    "                continue\n",
    "            if ('mask' not in team) or (team['mask'] is None): # выбрасываем без маски ответов\n",
    "                continue\n",
    "            if len(team['mask']) != mask_len:                  # выбрасываем команды с другой длиной маски\n",
    "                continue\n",
    "            new_res.append(team)       \n",
    "\n",
    "        if len(new_res) > 0:\n",
    "            new_results[i] = new_res\n",
    "            new_tournaments[i] = tournaments[i]\n",
    "    print(\"Train size: {}\".format(len(new_results)))\n",
    "    return new_results, new_tournaments"
   ]
  },
  {
   "cell_type": "code",
   "execution_count": 4,
   "metadata": {},
   "outputs": [],
   "source": [
    "def get_test(results, tournaments):\n",
    "    new_results = dict()\n",
    "    new_tournaments = dict()\n",
    "    for i in results:\n",
    "        if tournaments[i]['dateStart'][:4] != '2020':                   # берем ткрниры за 2020 год\n",
    "            continue\n",
    "        res = results[i]\n",
    "        new_res = []\n",
    "        mask_len = 0\n",
    "        for team in res:\n",
    "            if len(team['teamMembers']) == 0:                           # выбрасываем команды без позиции\n",
    "                continue\n",
    "            if ('position' not in team) or (team['position'] is None):  # выбрасываем без списка участников\n",
    "                continue\n",
    "            new_res.append(team)\n",
    "\n",
    "        if len(new_res) > 0:\n",
    "            new_results[i] = new_res\n",
    "            new_tournaments[i] = tournaments[i]\n",
    "    print(\"Test size: {}\".format(len(new_results)))\n",
    "    return new_results, new_tournaments"
   ]
  },
  {
   "cell_type": "code",
   "execution_count": 5,
   "metadata": {},
   "outputs": [],
   "source": [
    "def unique_players(train_results, min_games):\n",
    "    players_ids = Counter()\n",
    "    for i in train_results:                            # находим количество сыгранных вопросов для каждого игрока\n",
    "        res = train_results[i]\n",
    "        for team in res:\n",
    "            members = team['teamMembers']\n",
    "            for player in members:\n",
    "                id = player['player']['id']\n",
    "                players_ids[id] += len(team['mask'])\n",
    "    \n",
    "        players_ids_often = list()\n",
    "    for p in players_ids:\n",
    "        if players_ids[p] > 40:                        # берем у кого более 40 вопросов (иначе памяти не хватает)\n",
    "            players_ids_often.append(p)\n",
    "            \n",
    "    players_dict = dict()\n",
    "    for i, idx in enumerate(players_ids_often):        # словарь: id -> индекс в списке\n",
    "        players_dict[idx] = i\n",
    "    print(\"Уникальных игроков с более {} игр: {}\".format(min_games, len(players_dict)))\n",
    "    return players_dict, players_ids"
   ]
  },
  {
   "cell_type": "code",
   "execution_count": 6,
   "metadata": {},
   "outputs": [],
   "source": [
    "def quest_number(train_results):\n",
    "    counter = 0\n",
    "    quest_dict = dict()\n",
    "    for i in train_results:\n",
    "        res = train_results[i]\n",
    "        mask_len = len(res[0]['mask'])\n",
    "        for j in range(mask_len):\n",
    "            quest_dict[counter] = i        # словарь: вопрос -> турнир\n",
    "            counter += 1                   # количество вопросов\n",
    "    print(\"Вопросов: {}\".format(counter))\n",
    "    return counter, quest_dict"
   ]
  },
  {
   "cell_type": "code",
   "execution_count": 7,
   "metadata": {},
   "outputs": [
    {
     "name": "stdout",
     "output_type": "stream",
     "text": [
      "Train size: 675\n",
      "Test size: 176\n"
     ]
    }
   ],
   "source": [
    "train_results, train_tournaments = get_train(results, tournaments)\n",
    "test_results, test_tournaments = get_test(results, tournaments)"
   ]
  },
  {
   "cell_type": "code",
   "execution_count": 8,
   "metadata": {},
   "outputs": [
    {
     "name": "stdout",
     "output_type": "stream",
     "text": [
      "Вопросов: 33385\n",
      "Уникальных игроков с более 2 игр: 39383\n"
     ]
    }
   ],
   "source": [
    "counter, quest_dict = quest_number(train_results)\n",
    "players_dict, players_quest_number = unique_players(train_results, 2)"
   ]
  },
  {
   "cell_type": "markdown",
   "metadata": {},
   "source": [
    "### 2. Обучим baseline модель (LogReg)"
   ]
  },
  {
   "cell_type": "markdown",
   "metadata": {},
   "source": [
    "- Строки - вопросы\n",
    "- Столбцы - игроки и вопросы\n",
    "- Если игрок не играл вопрос 0, если ответил 1, не ответил -1\n",
    "- И 1 в столбце соответсвующем вопросу (диагональ единиц)"
   ]
  },
  {
   "cell_type": "code",
   "execution_count": 9,
   "metadata": {},
   "outputs": [],
   "source": [
    "X_train = np.zeros((counter, len(players_dict) + counter), dtype='float16')\n",
    "y_train = np.ones(counter, dtype='float32')"
   ]
  },
  {
   "cell_type": "code",
   "execution_count": 10,
   "metadata": {},
   "outputs": [],
   "source": [
    "def get_X(X, train_results, players_dict):\n",
    "    counter = 0\n",
    "    y_train = []\n",
    "    for i in train_results:\n",
    "        res = train_results[i]\n",
    "        mask_len = len(res[0]['mask'])\n",
    "        for j in range(mask_len):\n",
    "            for team in res:\n",
    "                answer = 1 if team['mask'][j] == '1' else -1\n",
    "                for player in team['teamMembers']:\n",
    "                    player_id = player['player']['id']\n",
    "                    if player_id in players_dict:\n",
    "                        player_w = players_dict[player_id]\n",
    "                        X[counter, player_w] = answer\n",
    "            X[counter, len(players_dict) + counter] = 1\n",
    "            counter += 1"
   ]
  },
  {
   "cell_type": "code",
   "execution_count": 11,
   "metadata": {},
   "outputs": [],
   "source": [
    "def train_base(X, y):\n",
    "    prob = liblinearutil.problem(y_train, X_train)\n",
    "    param = liblinearutil.parameter('-s 0 -c 0.001')\n",
    "    liblin = liblinearutil.train(prob, param)\n",
    "    [W, b] = liblin.get_decfun()\n",
    "    \n",
    "    # Силой игрока будем считать вес соответсвующего признака\n",
    "    # Сдвинем веса так, что наименьшая сила - 0\n",
    "    W_copy = W.copy()\n",
    "    min_w = min(W_copy)\n",
    "    W_pos = [x - min_w for x in W_copy]\n",
    "    return W_pos"
   ]
  },
  {
   "cell_type": "code",
   "execution_count": 12,
   "metadata": {},
   "outputs": [],
   "source": [
    "get_X(X_train, train_results, players_dict)\n",
    "W = train_base(X_train, y_train)"
   ]
  },
  {
   "cell_type": "markdown",
   "metadata": {},
   "source": [
    "### 3. Предсказание позиций на турнирах 2020"
   ]
  },
  {
   "cell_type": "code",
   "execution_count": 13,
   "metadata": {},
   "outputs": [],
   "source": [
    "# В качестве силы команды берем взвешенную силу трех лучших игроков (подбирал руками)\n",
    "def get_team_power(power):\n",
    "    power = sorted(power, reverse=True)[:3]\n",
    "    power = power + [0] * (3-len(power))\n",
    "    if len(power) == 0:\n",
    "        power = 0\n",
    "    else:\n",
    "        power = power[0] * 0.7 + power[1] * 0.2 + power[2] * 0.1\n",
    "    return power"
   ]
  },
  {
   "cell_type": "code",
   "execution_count": 14,
   "metadata": {},
   "outputs": [],
   "source": [
    "def corr_metric(W):\n",
    "    corr_spear = []\n",
    "    corr_kend = []\n",
    "    for i in test_results:\n",
    "        res = test_results[i]\n",
    "        real = []\n",
    "        pred = []\n",
    "        for team in res:\n",
    "            real.append(team['position'])\n",
    "            power = []\n",
    "            for player in team['teamMembers']:\n",
    "                id = player['player']['id']\n",
    "                if id in players_dict:\n",
    "                    w_idx = players_dict[id]\n",
    "                    power.append(W[w_idx])\n",
    "            power = get_team_power(power)\n",
    "            pred.append(power)\n",
    "        real.reverse()\n",
    "        corr_spear.append(spearmanr(real, pred)[0])\n",
    "        corr_kend.append(kendalltau(real, pred)[0])\n",
    "    corr_spear = [x for x in corr_spear if str(x) != 'nan']\n",
    "    corr_kend = [x for x in corr_kend if str(x) != 'nan']\n",
    "    corr_spear = round(sum(corr_spear) / len(corr_spear), 4)\n",
    "    corr_kend = round(sum(corr_kend) / len(corr_kend), 4)\n",
    "    print(\"Spearman: {}\".format(corr_spear))\n",
    "    print(\"Kendall: {}\".format(corr_kend))\n",
    "    return corr_spear"
   ]
  },
  {
   "cell_type": "code",
   "execution_count": 15,
   "metadata": {},
   "outputs": [
    {
     "name": "stderr",
     "output_type": "stream",
     "text": [
      "/usr/local/lib/python3.5/dist-packages/numpy/lib/function_base.py:2534: RuntimeWarning: invalid value encountered in true_divide\n",
      "  c /= stddev[:, None]\n",
      "/usr/local/lib/python3.5/dist-packages/numpy/lib/function_base.py:2535: RuntimeWarning: invalid value encountered in true_divide\n",
      "  c /= stddev[None, :]\n",
      "/usr/local/lib/python3.5/dist-packages/scipy/stats/_distn_infrastructure.py:879: RuntimeWarning: invalid value encountered in greater\n",
      "  return (self.a < x) & (x < self.b)\n",
      "/usr/local/lib/python3.5/dist-packages/scipy/stats/_distn_infrastructure.py:879: RuntimeWarning: invalid value encountered in less\n",
      "  return (self.a < x) & (x < self.b)\n",
      "/usr/local/lib/python3.5/dist-packages/scipy/stats/_distn_infrastructure.py:1821: RuntimeWarning: invalid value encountered in less_equal\n",
      "  cond2 = cond0 & (x <= self.a)\n"
     ]
    },
    {
     "name": "stdout",
     "output_type": "stream",
     "text": [
      "Spearman: 0.6038\n",
      "Kendall: 0.4548\n"
     ]
    }
   ],
   "source": [
    "corr_metric(W);"
   ]
  },
  {
   "cell_type": "markdown",
   "metadata": {},
   "source": [
    "### 5. Топ вопросов по сложности"
   ]
  },
  {
   "cell_type": "code",
   "execution_count": 16,
   "metadata": {},
   "outputs": [
    {
     "name": "stdout",
     "output_type": "stream",
     "text": [
      "Синхрон-lite. Выпуск XXII\n",
      "Кубок городов\n",
      "Пущинские Дали - синхрон\n",
      "Чемпионат Мира. Этап 2. Группа А\n",
      "Чемпионат России\n",
      "Чемпионат Мира. Финал. Группа А\n",
      "Чемпионат Мира. Этап 2. Группа А\n",
      "KFC\n",
      "Чемпионат России\n",
      "Чемпионат России\n",
      "Чемпионат России\n",
      "Veidrodis\n",
      "Чемпионат Мира. Этап 3. Группа А\n",
      "Молодёжный чемпионат Нижегородской области\n",
      "Чемпионат России\n",
      "Чемпионат России\n",
      "Чемпионат Мира. Финал. Группа А\n",
      "Чемпионат Мира. Финал. Группа А\n",
      "Чемпионат России\n",
      "Донат\n"
     ]
    }
   ],
   "source": [
    "# Большая часть вопросов в топе с чемпионатов мира и России, что выглядит логично\n",
    "W_ans = W[len(players_dict):]\n",
    "W_ans = [(x, i) for i, x in enumerate(W_ans)]\n",
    "W_ans = sorted(W_ans, key=lambda x: x[0], reverse=True)\n",
    "for i in range(20):\n",
    "    idx_tour = quest_dict[W_ans[i][1]]\n",
    "    print(tournaments[idx_tour]['name'])"
   ]
  },
  {
   "cell_type": "markdown",
   "metadata": {},
   "source": [
    "### 6. Рейтинг игроков"
   ]
  },
  {
   "cell_type": "markdown",
   "metadata": {},
   "source": [
    "Рейтинг игроков составляю по результатам baseline модели, так как, не смотря на улучшение метрик при использовании EM-алгоритма, рейтинг становится менее правдоподбным"
   ]
  },
  {
   "cell_type": "code",
   "execution_count": 17,
   "metadata": {},
   "outputs": [],
   "source": [
    "def get_players_scor(W):\n",
    "    players_scor = {\n",
    "        'scor': [],\n",
    "        'questions_number': [],\n",
    "        'name': []\n",
    "    }\n",
    "    for i in players:\n",
    "        player = players[i]\n",
    "        id = player['id']\n",
    "        if id in players_dict:\n",
    "            idx = players_dict[id]\n",
    "            players_scor['scor'].append(W[idx])\n",
    "            players_scor['questions_number'].append(players_quest_number[id])\n",
    "            players_scor['name'].append('{} {} {}'.format(player['surname'], player['name'], player['patronymic']))\n",
    "    players_scor = pd.DataFrame(players_scor).sort_values('scor', ascending=False)\n",
    "    return players_scor"
   ]
  },
  {
   "cell_type": "markdown",
   "metadata": {},
   "source": [
    "Часть ироков из топа получившегося рейтинга действительно занимают верхние строчки, но видна корреляция с количеством сыгранных вопросов, которая, видимо, и не позволила достичь лучшего качества модели и побороть ее не удалось. При чем это противоречит предположению о новичках в топе, и убирать их специально не требуется"
   ]
  },
  {
   "cell_type": "code",
   "execution_count": 18,
   "metadata": {},
   "outputs": [
    {
     "data": {
      "text/html": [
       "<div>\n",
       "<style scoped>\n",
       "    .dataframe tbody tr th:only-of-type {\n",
       "        vertical-align: middle;\n",
       "    }\n",
       "\n",
       "    .dataframe tbody tr th {\n",
       "        vertical-align: top;\n",
       "    }\n",
       "\n",
       "    .dataframe thead th {\n",
       "        text-align: right;\n",
       "    }\n",
       "</style>\n",
       "<table border=\"1\" class=\"dataframe\">\n",
       "  <thead>\n",
       "    <tr style=\"text-align: right;\">\n",
       "      <th></th>\n",
       "      <th>name</th>\n",
       "      <th>questions_number</th>\n",
       "    </tr>\n",
       "  </thead>\n",
       "  <tbody>\n",
       "    <tr>\n",
       "      <th>10554</th>\n",
       "      <td>Дворянчиков Алексей Ярославович</td>\n",
       "      <td>8575</td>\n",
       "    </tr>\n",
       "    <tr>\n",
       "      <th>3917</th>\n",
       "      <td>Спешков Сергей Леонидович</td>\n",
       "      <td>3767</td>\n",
       "    </tr>\n",
       "    <tr>\n",
       "      <th>3897</th>\n",
       "      <td>Сорожкин Артём Сергеевич</td>\n",
       "      <td>4885</td>\n",
       "    </tr>\n",
       "    <tr>\n",
       "      <th>3718</th>\n",
       "      <td>Семушин Иван Николаевич</td>\n",
       "      <td>3803</td>\n",
       "    </tr>\n",
       "    <tr>\n",
       "      <th>3817</th>\n",
       "      <td>Слинявчук Виктория Викторовна</td>\n",
       "      <td>5487</td>\n",
       "    </tr>\n",
       "    <tr>\n",
       "      <th>1595</th>\n",
       "      <td>Ильин Константин Евгеньевич</td>\n",
       "      <td>8139</td>\n",
       "    </tr>\n",
       "    <tr>\n",
       "      <th>2389</th>\n",
       "      <td>Либер Александр Витальевич</td>\n",
       "      <td>3821</td>\n",
       "    </tr>\n",
       "    <tr>\n",
       "      <th>17371</th>\n",
       "      <td>Мощенков Витольд Валентинович</td>\n",
       "      <td>1830</td>\n",
       "    </tr>\n",
       "    <tr>\n",
       "      <th>9103</th>\n",
       "      <td>Комар Наталья Александровна</td>\n",
       "      <td>4340</td>\n",
       "    </tr>\n",
       "    <tr>\n",
       "      <th>4681</th>\n",
       "      <td>Штых Алексей Константинович</td>\n",
       "      <td>3158</td>\n",
       "    </tr>\n",
       "    <tr>\n",
       "      <th>5491</th>\n",
       "      <td>Леонова Дарья Петровна</td>\n",
       "      <td>3811</td>\n",
       "    </tr>\n",
       "    <tr>\n",
       "      <th>6564</th>\n",
       "      <td>Амагаев Андрей Аркадьевич</td>\n",
       "      <td>3595</td>\n",
       "    </tr>\n",
       "    <tr>\n",
       "      <th>3957</th>\n",
       "      <td>Столяров Павел Николаевич</td>\n",
       "      <td>2982</td>\n",
       "    </tr>\n",
       "    <tr>\n",
       "      <th>4867</th>\n",
       "      <td>Сахаров Дмитрий Андреевич</td>\n",
       "      <td>3749</td>\n",
       "    </tr>\n",
       "    <tr>\n",
       "      <th>3458</th>\n",
       "      <td>Раскумандрин Вадим Игоревич</td>\n",
       "      <td>6777</td>\n",
       "    </tr>\n",
       "    <tr>\n",
       "      <th>902</th>\n",
       "      <td>Гилёв Алексей Владимирович</td>\n",
       "      <td>4485</td>\n",
       "    </tr>\n",
       "    <tr>\n",
       "      <th>8435</th>\n",
       "      <td>Сушков Василий Дмитриевич</td>\n",
       "      <td>3689</td>\n",
       "    </tr>\n",
       "    <tr>\n",
       "      <th>4087</th>\n",
       "      <td>Тимошенко Егор Александрович</td>\n",
       "      <td>3859</td>\n",
       "    </tr>\n",
       "    <tr>\n",
       "      <th>3611</th>\n",
       "      <td>Савченков Михаил Владимирович</td>\n",
       "      <td>3236</td>\n",
       "    </tr>\n",
       "    <tr>\n",
       "      <th>4798</th>\n",
       "      <td>Янукович Сергей Владимирович</td>\n",
       "      <td>4764</td>\n",
       "    </tr>\n",
       "  </tbody>\n",
       "</table>\n",
       "</div>"
      ],
      "text/plain": [
       "                                  name  questions_number\n",
       "10554  Дворянчиков Алексей Ярославович              8575\n",
       "3917         Спешков Сергей Леонидович              3767\n",
       "3897          Сорожкин Артём Сергеевич              4885\n",
       "3718           Семушин Иван Николаевич              3803\n",
       "3817     Слинявчук Виктория Викторовна              5487\n",
       "1595       Ильин Константин Евгеньевич              8139\n",
       "2389        Либер Александр Витальевич              3821\n",
       "17371    Мощенков Витольд Валентинович              1830\n",
       "9103       Комар Наталья Александровна              4340\n",
       "4681       Штых Алексей Константинович              3158\n",
       "5491            Леонова Дарья Петровна              3811\n",
       "6564         Амагаев Андрей Аркадьевич              3595\n",
       "3957         Столяров Павел Николаевич              2982\n",
       "4867         Сахаров Дмитрий Андреевич              3749\n",
       "3458       Раскумандрин Вадим Игоревич              6777\n",
       "902         Гилёв Алексей Владимирович              4485\n",
       "8435         Сушков Василий Дмитриевич              3689\n",
       "4087      Тимошенко Егор Александрович              3859\n",
       "3611     Савченков Михаил Владимирович              3236\n",
       "4798      Янукович Сергей Владимирович              4764"
      ]
     },
     "execution_count": 18,
     "metadata": {},
     "output_type": "execute_result"
    }
   ],
   "source": [
    "W_players = W[:len(players_dict)]\n",
    "players_scor = get_players_scor(W_players)\n",
    "players_scor[['name', 'questions_number']].head(20)"
   ]
  },
  {
   "cell_type": "markdown",
   "metadata": {},
   "source": [
    "### 4. EM-алгоритм"
   ]
  },
  {
   "cell_type": "markdown",
   "metadata": {},
   "source": [
    "Предположим, что вклад в ответ команды пропорционален силе игрока. Тогда совокупность этих значений по всем игрокам и будут скрытыми переменными. Для удучшения качества модели, немного меняем схему\n",
    "- Сила команды равна просто среднему значению по команде\n",
    "- В случае неответа на вопрос ставим 0, а не -1\n",
    "- Если игрок ответил на вопрос, ставим не 1, а силу игрока (пробовал нормировать на сумму сил в команде - не помогло)"
   ]
  },
  {
   "cell_type": "code",
   "execution_count": 19,
   "metadata": {},
   "outputs": [],
   "source": [
    "def e_step(X, y):\n",
    "    prob = liblinearutil.problem(y, X)\n",
    "    param = liblinearutil.parameter('-s 0 -c 1 -B 1')\n",
    "    liblin = liblinearutil.train(prob, param)\n",
    "    [W, b] = liblin.get_decfun()\n",
    "    return W"
   ]
  },
  {
   "cell_type": "code",
   "execution_count": 20,
   "metadata": {},
   "outputs": [],
   "source": [
    "def m_step(X, W):\n",
    "    counter = 0\n",
    "    y_train = []\n",
    "    for i in train_results:\n",
    "        res = train_results[i]\n",
    "        mask_len = len(res[0]['mask'])\n",
    "        for j in range(mask_len):\n",
    "            for team in res:\n",
    "                team_power = 0\n",
    "                for player in team['teamMembers']:\n",
    "                    player_id = player['player']['id']\n",
    "                    if player_id in players_dict:\n",
    "                        player_w = players_dict[player_id]\n",
    "                        player_power = W[player_w]\n",
    "                        team_power += player_power\n",
    "                answer = 1 if team['mask'][j] == '1' else 0\n",
    "                for player in team['teamMembers']:\n",
    "                    player_id = player['player']['id']\n",
    "                    if player_id in players_dict:\n",
    "                        player_w = players_dict[player_id]\n",
    "                        player_power = W[player_w] + 0.001\n",
    "                        X[counter, player_w] = answer * player_power\n",
    "            counter += 1"
   ]
  },
  {
   "cell_type": "code",
   "execution_count": 21,
   "metadata": {},
   "outputs": [],
   "source": [
    "def get_team_power(power):\n",
    "    if len(power) == 0:\n",
    "        return 0\n",
    "    return sum(power) / (len(power))"
   ]
  },
  {
   "cell_type": "code",
   "execution_count": 22,
   "metadata": {},
   "outputs": [],
   "source": [
    "X_train = np.zeros((counter, len(players_dict)), dtype='float16')\n",
    "y_train = np.ones(counter, dtype='float16')"
   ]
  },
  {
   "cell_type": "code",
   "execution_count": 24,
   "metadata": {},
   "outputs": [
    {
     "name": "stdout",
     "output_type": "stream",
     "text": [
      "0\n"
     ]
    },
    {
     "name": "stderr",
     "output_type": "stream",
     "text": [
      "/usr/local/lib/python3.5/dist-packages/numpy/lib/function_base.py:2534: RuntimeWarning: invalid value encountered in true_divide\n",
      "  c /= stddev[:, None]\n",
      "/usr/local/lib/python3.5/dist-packages/numpy/lib/function_base.py:2535: RuntimeWarning: invalid value encountered in true_divide\n",
      "  c /= stddev[None, :]\n",
      "/usr/local/lib/python3.5/dist-packages/scipy/stats/_distn_infrastructure.py:879: RuntimeWarning: invalid value encountered in greater\n",
      "  return (self.a < x) & (x < self.b)\n",
      "/usr/local/lib/python3.5/dist-packages/scipy/stats/_distn_infrastructure.py:879: RuntimeWarning: invalid value encountered in less\n",
      "  return (self.a < x) & (x < self.b)\n",
      "/usr/local/lib/python3.5/dist-packages/scipy/stats/_distn_infrastructure.py:1821: RuntimeWarning: invalid value encountered in less_equal\n",
      "  cond2 = cond0 & (x <= self.a)\n"
     ]
    },
    {
     "name": "stdout",
     "output_type": "stream",
     "text": [
      "Spearman: 0.5697\n",
      "Kendall: 0.4252\n",
      "1\n",
      "Spearman: 0.6234\n",
      "Kendall: 0.4708\n",
      "2\n",
      "Spearman: 0.6299\n",
      "Kendall: 0.4775\n",
      "3\n",
      "Spearman: 0.6287\n",
      "Kendall: 0.4769\n",
      "4\n",
      "Spearman: 0.6285\n",
      "Kendall: 0.4769\n",
      "5\n",
      "Spearman: 0.6298\n",
      "Kendall: 0.4775\n",
      "6\n",
      "Spearman: 0.6318\n",
      "Kendall: 0.4789\n",
      "7\n",
      "Spearman: 0.6322\n",
      "Kendall: 0.4792\n",
      "8\n",
      "Spearman: 0.6322\n",
      "Kendall: 0.4792\n",
      "9\n",
      "Spearman: 0.6302\n",
      "Kendall: 0.4776\n"
     ]
    }
   ],
   "source": [
    "W = [1] * (len(players_dict))\n",
    "best_spearmen = 0\n",
    "best_w = []\n",
    "for i in range(10):\n",
    "    print(i)\n",
    "    m_step(X_train, W)           # обновляем матрицу в соотвествии с силой игроков\n",
    "    W = e_step(X_train, y_train) # обновляем силу\n",
    "    spearmen = corr_metric(W)\n",
    "    if spearmen > best_spearmen:\n",
    "        best_spearmen = spearmen\n",
    "        best_w = W"
   ]
  },
  {
   "cell_type": "code",
   "execution_count": 25,
   "metadata": {},
   "outputs": [
    {
     "name": "stdout",
     "output_type": "stream",
     "text": [
      "Best Spearmen: 0.6322\n"
     ]
    }
   ],
   "source": [
    "print('Best Spearmen: {}'.format(best_spearmen))"
   ]
  },
  {
   "cell_type": "markdown",
   "metadata": {},
   "source": [
    "### 7. Глубина рейтинга"
   ]
  },
  {
   "cell_type": "markdown",
   "metadata": {},
   "source": [
    "- Из-за объема данных обучиться на всех турнирах не удалось\n",
    "- Идея: Продублировать строки, соответвующие вопросам предпоследнего года, и взять 4 раза вопросы последнего года. Так мы увеличим веса этих объектов (вопросов) для модели"
   ]
  }
 ],
 "metadata": {
  "kernelspec": {
   "display_name": "Python 3",
   "language": "python",
   "name": "python3"
  },
  "language_info": {
   "codemirror_mode": {
    "name": "ipython",
    "version": 3
   },
   "file_extension": ".py",
   "mimetype": "text/x-python",
   "name": "python",
   "nbconvert_exporter": "python",
   "pygments_lexer": "ipython3",
   "version": "3.5.2"
  }
 },
 "nbformat": 4,
 "nbformat_minor": 2
}
